{
 "cells": [
  {
   "cell_type": "code",
   "execution_count": 1,
   "id": "401e1175",
   "metadata": {},
   "outputs": [],
   "source": [
    "import os\n",
    "os.environ[\"CUDA_VISIBLE_DEVICES\"] = \"1\""
   ]
  },
  {
   "cell_type": "code",
   "execution_count": 2,
   "id": "48979904",
   "metadata": {},
   "outputs": [],
   "source": [
    "%matplotlib inline\n",
    "%load_ext autoreload\n",
    "%autoreload 2\n",
    "\n",
    "import os\n",
    "\n",
    "import dill\n",
    "import hydra\n",
    "import imageio\n",
    "import matplotlib.pyplot as plt\n",
    "import numpy as np\n",
    "import torch\n",
    "from torch.utils.data import DataLoader\n",
    "\n",
    "import sys\n",
    "sys.path.append(\"/home/diffusion_policy\")\n",
    "from diffusion_policy.dataset.base_dataset import BaseImageDataset\n",
    "from diffusion_policy.policy.base_image_policy import BaseImagePolicy\n",
    "from diffusion_policy.workspace.base_workspace import BaseWorkspace\n",
    "\n",
    "precision = 4\n",
    "np.set_printoptions(suppress=True, precision=precision)\n",
    "torch.set_printoptions(precision=precision, sci_mode=False)"
   ]
  },
  {
   "cell_type": "code",
   "execution_count": null,
   "id": "d0384f4c",
   "metadata": {},
   "outputs": [],
   "source": []
  },
  {
   "cell_type": "code",
   "execution_count": 3,
   "id": "45bd77fd",
   "metadata": {},
   "outputs": [],
   "source": [
    "# rundir = \"/home/diffusion_policy/data/outputs/2023.04.03/03.30.24_train_diffusion_unet_hybrid_pick_up_ball\"\n",
    "rundir = \"/home/diffusion_policy/data/outputs/2023.04.05/01.34.51_train_diffusion_unet_hybrid_move_forward\"\n",
    "ckpt_path = os.path.join(rundir, \"checkpoints\", \"latest.ckpt\")"
   ]
  },
  {
   "cell_type": "code",
   "execution_count": 4,
   "id": "ebfc4155",
   "metadata": {},
   "outputs": [],
   "source": [
    "payload = torch.load(open(ckpt_path, 'rb'), pickle_module=dill)\n",
    "cfg = payload['cfg']"
   ]
  },
  {
   "cell_type": "code",
   "execution_count": 5,
   "id": "6fa382c9",
   "metadata": {},
   "outputs": [],
   "source": [
    "batch_size = 25\n",
    "cfg[\"dataloader\"][\"batch_size\"] = batch_size\n",
    "cfg[\"dataloader\"][\"pin_memory\"] = False\n",
    "cfg[\"val_dataloader\"][\"batch_size\"] = batch_size\n",
    "cfg[\"val_dataloader\"][\"pin_memory\"] = False"
   ]
  },
  {
   "cell_type": "code",
   "execution_count": 6,
   "id": "804d7f75",
   "metadata": {},
   "outputs": [
    {
     "name": "stdout",
     "output_type": "stream",
     "text": [
      "\n",
      "============= Initialized Observation Utils with Obs Spec =============\n",
      "\n",
      "using obs modality: low_dim with keys: ['joint_states']\n",
      "using obs modality: rgb with keys: ['images']\n",
      "using obs modality: depth with keys: []\n",
      "using obs modality: scan with keys: []\n"
     ]
    },
    {
     "name": "stderr",
     "output_type": "stream",
     "text": [
      "/root/miniconda3/envs/robodiff/lib/python3.9/site-packages/torchvision/models/_utils.py:208: UserWarning: The parameter 'pretrained' is deprecated since 0.13 and will be removed in 0.15, please use 'weights' instead.\n",
      "  warnings.warn(\n",
      "/root/miniconda3/envs/robodiff/lib/python3.9/site-packages/torchvision/models/_utils.py:223: UserWarning: Arguments other than a weight enum or `None` for 'weights' are deprecated since 0.13 and will be removed in 0.15. The current behavior is equivalent to passing `weights=None`.\n",
      "  warnings.warn(msg)\n"
     ]
    },
    {
     "name": "stdout",
     "output_type": "stream",
     "text": [
      "Diffusion params: 6.502567e+07\n",
      "Vision params: 1.119709e+07\n"
     ]
    }
   ],
   "source": [
    "cls = hydra.utils.get_class(cfg._target_)\n",
    "workspace = cls(cfg)\n",
    "workspace: BaseWorkspace\n",
    "workspace.load_payload(payload, exclude_keys=None, include_keys=None)"
   ]
  },
  {
   "cell_type": "code",
   "execution_count": 7,
   "id": "850c1d05",
   "metadata": {},
   "outputs": [],
   "source": [
    "policy: BaseImagePolicy\n",
    "policy = workspace.model\n",
    "if cfg.training.use_ema:\n",
    "    policy = workspace.ema_model\n",
    "\n",
    "device = torch.device('cuda')\n",
    "policy.eval().to(device)\n",
    "\n",
    "# set inference params\n",
    "policy.num_inference_steps = 200 # DDIM inference iterations\n",
    "policy.n_action_steps = policy.horizon - policy.n_obs_steps + 1"
   ]
  },
  {
   "cell_type": "code",
   "execution_count": 8,
   "id": "f94e7cba",
   "metadata": {},
   "outputs": [],
   "source": [
    "# configure dataset\n",
    "dataset: BaseImageDataset\n",
    "dataset = hydra.utils.instantiate(cfg.task.dataset)\n",
    "assert isinstance(dataset, BaseImageDataset)\n",
    "train_dataloader = DataLoader(dataset, **cfg.dataloader)\n",
    "normalizer = dataset.get_normalizer()\n",
    "\n",
    "# configure validation dataset\n",
    "val_dataset = dataset.get_validation_dataset()\n",
    "val_dataloader = DataLoader(val_dataset, **cfg.val_dataloader)"
   ]
  },
  {
   "cell_type": "code",
   "execution_count": 9,
   "id": "63e200e4",
   "metadata": {},
   "outputs": [],
   "source": [
    "batch = next(iter(train_dataloader))"
   ]
  },
  {
   "cell_type": "code",
   "execution_count": 86,
   "id": "ac9926ee",
   "metadata": {},
   "outputs": [],
   "source": [
    "policy.num_inference_steps = 100 # DDIM inference iterations\n",
    "n_action_steps = 4\n",
    "batch_idx = 23"
   ]
  },
  {
   "cell_type": "code",
   "execution_count": 87,
   "id": "76ac51aa",
   "metadata": {},
   "outputs": [],
   "source": [
    "result = policy.predict_action(batch[\"obs\"])\n",
    "pred_action = result['action_pred'].detach().cpu().numpy()"
   ]
  },
  {
   "cell_type": "code",
   "execution_count": 88,
   "id": "3f2f4e3d",
   "metadata": {},
   "outputs": [
    {
     "data": {
      "text/plain": [
       "array([[ 0.5876, -0.0682,  0.4774,  3.0082,  0.173 ,  0.1355,  0.0478],\n",
       "       [ 0.6408, -0.0452,  0.4784,  2.8877,  0.1736,  0.1471, -0.0182],\n",
       "       [ 0.6491, -0.0304,  0.4845,  3.1174,  0.1777,  0.1757, -0.0734],\n",
       "       [ 0.6951, -0.0351,  0.4652,  2.7006,  0.1816,  0.1686,  0.0338]],\n",
       "      dtype=float32)"
      ]
     },
     "execution_count": 88,
     "metadata": {},
     "output_type": "execute_result"
    }
   ],
   "source": [
    "pred_action[batch_idx, :n_action_steps]"
   ]
  },
  {
   "cell_type": "code",
   "execution_count": 89,
   "id": "573e5cd9",
   "metadata": {},
   "outputs": [],
   "source": [
    "gt_action = batch[\"action\"]"
   ]
  },
  {
   "cell_type": "code",
   "execution_count": 90,
   "id": "59016588",
   "metadata": {},
   "outputs": [
    {
     "data": {
      "text/plain": [
       "array([[ 0.6435, -0.0288,  0.4656,  2.9337,  0.1622,  0.2072,  0.    ],\n",
       "       [ 0.6697, -0.017 ,  0.4576,  2.9243,  0.1522,  0.1995,  0.    ],\n",
       "       [ 0.6967, -0.006 ,  0.4502,  2.9202,  0.1522,  0.2003,  0.    ],\n",
       "       [ 0.7173,  0.0013,  0.4433,  2.9193,  0.1527,  0.1936,  0.    ]],\n",
       "      dtype=float32)"
      ]
     },
     "execution_count": 90,
     "metadata": {},
     "output_type": "execute_result"
    }
   ],
   "source": [
    "gt_action[batch_idx, :n_action_steps].detach().cpu().numpy()"
   ]
  },
  {
   "cell_type": "code",
   "execution_count": null,
   "id": "743a3e5d",
   "metadata": {},
   "outputs": [],
   "source": [
    "batch[\"obs\"][\"images\"].shape"
   ]
  },
  {
   "cell_type": "code",
   "execution_count": null,
   "id": "594355cd",
   "metadata": {},
   "outputs": [],
   "source": [
    "batch[\"obs\"][\"joint_states\"][batch_idx].detach().cpu().numpy()"
   ]
  },
  {
   "cell_type": "markdown",
   "id": "0106c370",
   "metadata": {},
   "source": [
    "- why is that 16 timesteps?"
   ]
  },
  {
   "cell_type": "code",
   "execution_count": null,
   "id": "e5c53701",
   "metadata": {},
   "outputs": [],
   "source": [
    "policy.n_obs_steps"
   ]
  },
  {
   "cell_type": "code",
   "execution_count": null,
   "id": "ea17a9fb",
   "metadata": {},
   "outputs": [],
   "source": [
    "img = batch[\"obs\"][\"images\"][batch_idx, 15].detach().cpu().numpy().transpose(1,2,0)"
   ]
  },
  {
   "cell_type": "code",
   "execution_count": null,
   "id": "669f0159",
   "metadata": {},
   "outputs": [],
   "source": [
    "plt.imshow(img)"
   ]
  },
  {
   "cell_type": "code",
   "execution_count": null,
   "id": "274a3cb9",
   "metadata": {},
   "outputs": [],
   "source": [
    "batch_idx = 23\n",
    "batch[\"obs\"][\"images\"].shape\n",
    "images = batch[\"obs\"][\"images\"][batch_idx].detach().cpu().numpy().transpose(0,2,3,1)\n",
    "images = (images * 255).astype(np.uint8)"
   ]
  },
  {
   "cell_type": "code",
   "execution_count": null,
   "id": "e616fa6e",
   "metadata": {},
   "outputs": [],
   "source": [
    "images.shape"
   ]
  },
  {
   "cell_type": "code",
   "execution_count": null,
   "id": "092ba34c",
   "metadata": {},
   "outputs": [],
   "source": [
    "import imageio\n",
    "from IPython.display import Video\n"
   ]
  },
  {
   "cell_type": "code",
   "execution_count": null,
   "id": "b1b306d8",
   "metadata": {},
   "outputs": [],
   "source": [
    "output_filepath = \"/home/video/output.mp4\"\n",
    "writer = imageio.get_writer(output_filepath, fps=15)\n",
    "for i in range(images.shape[0]):\n",
    "    writer.append_data(images[i])\n",
    "writer.close()"
   ]
  },
  {
   "cell_type": "code",
   "execution_count": null,
   "id": "259ea7e9",
   "metadata": {},
   "outputs": [],
   "source": [
    "from ipywidgets import Video\n",
    "Video.from_file(output_filepath, width=320, height=320)"
   ]
  },
  {
   "cell_type": "code",
   "execution_count": null,
   "id": "3bc29ae0",
   "metadata": {},
   "outputs": [],
   "source": []
  },
  {
   "cell_type": "code",
   "execution_count": null,
   "id": "69c83c87",
   "metadata": {},
   "outputs": [],
   "source": [
    "with torch.no_grad():\n",
    "    dataloader = train_dataloader\n",
    "\n",
    "    pred, gt = [], []\n",
    "\n",
    "    for i, batch in enumerate(dataloader):\n",
    "        result = policy.predict_action(batch[\"obs\"])\n",
    "        pred_action = result['action_pred'].detach().cpu().numpy()\n",
    "        pred.append(pred_action)\n",
    "\n",
    "        gt_action = batch[\"action\"]\n",
    "        gt_action= gt_action.detach().cpu().numpy()\n",
    "        gt.append(gt_action)\n",
    "\n",
    "        if i > 30:\n",
    "            break"
   ]
  },
  {
   "cell_type": "code",
   "execution_count": null,
   "id": "84a97f20",
   "metadata": {},
   "outputs": [],
   "source": [
    "pred = np.concatenate(pred)\n",
    "gt = np.concatenate(gt)"
   ]
  },
  {
   "cell_type": "code",
   "execution_count": null,
   "id": "0e67930a",
   "metadata": {},
   "outputs": [],
   "source": [
    "n_pred_timestep = 8\n",
    "error = np.sqrt((pred[:,:n_pred_timestep] - gt[:, :n_pred_timestep]) ** 2)\n",
    "error.mean(axis=(0,1))"
   ]
  },
  {
   "cell_type": "code",
   "execution_count": null,
   "id": "ff4fe904",
   "metadata": {},
   "outputs": [],
   "source": [
    "pred[0]"
   ]
  },
  {
   "cell_type": "code",
   "execution_count": null,
   "id": "a97152ff",
   "metadata": {},
   "outputs": [],
   "source": [
    "gt[0]"
   ]
  },
  {
   "cell_type": "markdown",
   "id": "9240438b",
   "metadata": {},
   "source": [
    "#\n",
    "train: 0.0072, 0.0047, 0.0066, 0.1946, 0.0163, 0.0182, 0.007\n",
    "val:   0.0223, 0.0155, 0.0212, 0.7429, 0.0603, 0.0578, 0.027 \n"
   ]
  },
  {
   "cell_type": "markdown",
   "id": "74636089",
   "metadata": {},
   "source": [
    "- I'm suspicious of the first euler angle values\n",
    "- the outputs seem to be very inconsistent\n",
    "- are they inconsistent in the training data?\n",
    "- is the normalization doing something weird?"
   ]
  },
  {
   "cell_type": "code",
   "execution_count": 99,
   "id": "04444b54",
   "metadata": {},
   "outputs": [
    {
     "data": {
      "text/plain": [
       "Parameter containing:\n",
       "tensor([    -1.9983,     -0.0784,     -3.7155,     -0.0005,      0.0311,\n",
       "            -0.4637,      0.0000], device='cuda:0')"
      ]
     },
     "execution_count": 99,
     "metadata": {},
     "output_type": "execute_result"
    }
   ],
   "source": [
    "policy.normalizer[\"action\"].params_dict[\"offset\"]"
   ]
  },
  {
   "cell_type": "code",
   "execution_count": 101,
   "id": "4add413a",
   "metadata": {},
   "outputs": [
    {
     "data": {
      "text/plain": [
       "Parameter containing:\n",
       "tensor([3.6617, 4.6023, 7.8533, 0.3185, 2.9818, 3.6831, 1.0000],\n",
       "       device='cuda:0')"
      ]
     },
     "execution_count": 101,
     "metadata": {},
     "output_type": "execute_result"
    }
   ],
   "source": [
    "policy.normalizer[\"action\"].params_dict[\"scale\"]"
   ]
  },
  {
   "cell_type": "markdown",
   "id": "00ac43b6",
   "metadata": {},
   "source": [
    "- ok so the offset is tiny so that's probably fine\n",
    "- but the scale is quite small\n",
    "- which I assume means that it's range is small \n",
    "    - is that the case\n",
    "    - how are the limits computed?\n",
    "    "
   ]
  },
  {
   "cell_type": "code",
   "execution_count": 120,
   "id": "dc07e69c",
   "metadata": {},
   "outputs": [],
   "source": [
    "actions = []\n",
    "for i, batch in enumerate(train_dataloader):\n",
    "    if i > 10:\n",
    "        break\n",
    "    actions.append(batch[\"action\"])\n",
    "actions = torch.cat(actions).reshape(-1, 7)\n",
    "actions = actions.detach().cpu().numpy()"
   ]
  },
  {
   "cell_type": "code",
   "execution_count": 125,
   "id": "de23b5d3",
   "metadata": {},
   "outputs": [
    {
     "data": {
      "text/plain": [
       "(array([494., 130.,  99., 343.,   0.,   0.,   0.,   0.,   0.,   0.,   0.,\n",
       "          0.,   0.,   0.,   0.,   0.,   0.,   0.,   0.,   0.,   0.,   0.,\n",
       "          0.,   0.,   0.,   0.,   0.,   0.,   0.,   0.,   0.,   0.,   0.,\n",
       "          0.,   0.,   0.,   0.,   0.,   0.,   0.,   0.,   0.,   0.,   0.,\n",
       "          0.,   0.,   0.,   0.,   0.,   0.,   0.,   0.,   0.,   0.,   0.,\n",
       "          0.,   0.,   0.,   0.,   0.,   0.,   0.,   0.,   0.,   0.,   0.,\n",
       "          0.,   0.,   0.,   0.,   0.,   0.,   0.,   0.,   0.,   0.,   0.,\n",
       "          0.,   0.,   0.,   0.,   0.,   0.,   0.,   0.,   0.,   0.,   0.,\n",
       "          0.,   0.,  12., 113.,  52., 463., 295., 368., 595., 379., 600.,\n",
       "        457.]),\n",
       " array([-3.1381, -3.0753, -3.0125, -2.9497, -2.8869, -2.8241, -2.7614,\n",
       "        -2.6986, -2.6358, -2.573 , -2.5102, -2.4474, -2.3846, -2.3218,\n",
       "        -2.259 , -2.1962, -2.1334, -2.0706, -2.0078, -1.945 , -1.8822,\n",
       "        -1.8195, -1.7567, -1.6939, -1.6311, -1.5683, -1.5055, -1.4427,\n",
       "        -1.3799, -1.3171, -1.2543, -1.1915, -1.1287, -1.0659, -1.0031,\n",
       "        -0.9403, -0.8776, -0.8148, -0.752 , -0.6892, -0.6264, -0.5636,\n",
       "        -0.5008, -0.438 , -0.3752, -0.3124, -0.2496, -0.1868, -0.124 ,\n",
       "        -0.0612,  0.0016,  0.0643,  0.1271,  0.1899,  0.2527,  0.3155,\n",
       "         0.3783,  0.4411,  0.5039,  0.5667,  0.6295,  0.6923,  0.7551,\n",
       "         0.8179,  0.8807,  0.9435,  1.0062,  1.069 ,  1.1318,  1.1946,\n",
       "         1.2574,  1.3202,  1.383 ,  1.4458,  1.5086,  1.5714,  1.6342,\n",
       "         1.697 ,  1.7598,  1.8226,  1.8854,  1.9481,  2.0109,  2.0737,\n",
       "         2.1365,  2.1993,  2.2621,  2.3249,  2.3877,  2.4505,  2.5133,\n",
       "         2.5761,  2.6389,  2.7017,  2.7645,  2.8273,  2.89  ,  2.9528,\n",
       "         3.0156,  3.0784,  3.1412]),\n",
       " <BarContainer object of 100 artists>)"
      ]
     },
     "execution_count": 125,
     "metadata": {},
     "output_type": "execute_result"
    },
    {
     "data": {
      "image/png": "[encoded data removed]",
      "text/plain": [
       "<Figure size 640x480 with 1 Axes>"
      ]
     },
     "metadata": {},
     "output_type": "display_data"
    }
   ],
   "source": [
    "plt.hist(actions[:, 3], bins=100)"
   ]
  },
  {
   "cell_type": "code",
   "execution_count": null,
   "id": "c76b6b6b",
   "metadata": {},
   "outputs": [],
   "source": []
  },
  {
   "cell_type": "code",
   "execution_count": null,
   "id": "18daa75f",
   "metadata": {},
   "outputs": [],
   "source": []
  }
 ],
 "metadata": {
  "kernelspec": {
   "display_name": "robodiff",
   "language": "python",
   "name": "robodiff"
  },
  "language_info": {
   "codemirror_mode": {
    "name": "ipython",
    "version": 3
   },
   "file_extension": ".py",
   "mimetype": "text/x-python",
   "name": "python",
   "nbconvert_exporter": "python",
   "pygments_lexer": "ipython3",
   "version": "3.9.15"
  }
 },
 "nbformat": 4,
 "nbformat_minor": 5
}
